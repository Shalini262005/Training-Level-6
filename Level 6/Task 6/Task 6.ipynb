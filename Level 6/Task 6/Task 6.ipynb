{
 "cells": [
  {
   "cell_type": "code",
   "execution_count": 2,
   "metadata": {},
   "outputs": [],
   "source": [
    "import numpy as np\n",
    "import math"
   ]
  },
  {
   "cell_type": "code",
   "execution_count": 4,
   "metadata": {},
   "outputs": [
    {
     "name": "stdout",
     "output_type": "stream",
     "text": [
      "Variance=8.0, standard deviation=2.828\n"
     ]
    }
   ],
   "source": [
    "lst=[2,4,6,8,10]\n",
    "mean=np.mean(lst)\n",
    "variance=sum([(n-mean)**2 for n in lst])/len(lst)\n",
    "std=np.round(math.sqrt(variance),3)\n",
    "print(f'Variance={variance}, standard deviation={std}')"
   ]
  },
  {
   "cell_type": "markdown",
   "metadata": {},
   "source": [
    "The spread of data (variance) is 8 and the distance of the data points from the mean (standard deviation) is 2.828"
   ]
  }
 ],
 "metadata": {
  "kernelspec": {
   "display_name": "Python 3",
   "language": "python",
   "name": "python3"
  },
  "language_info": {
   "codemirror_mode": {
    "name": "ipython",
    "version": 3
   },
   "file_extension": ".py",
   "mimetype": "text/x-python",
   "name": "python",
   "nbconvert_exporter": "python",
   "pygments_lexer": "ipython3",
   "version": "3.12.5"
  }
 },
 "nbformat": 4,
 "nbformat_minor": 2
}
